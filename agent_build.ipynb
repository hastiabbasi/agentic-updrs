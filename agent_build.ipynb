{
 "cells": [
  {
   "cell_type": "markdown",
   "metadata": {},
   "source": [
    "## building an agent that interacts with a search engine \n",
    "- ask agent questions \n",
    "- watch agent call the search tool \n",
    "- have conversations with the agent\n",
    "\n",
    "[python.langchain tutorial](https://python.langchain.com/docs/tutorials/agents/)"
   ]
  },
  {
   "cell_type": "code",
   "execution_count": 1,
   "metadata": {},
   "outputs": [
    {
     "name": "stdout",
     "output_type": "stream",
     "text": [
      "Tracing: true\n",
      "API Key is set: True\n",
      "Tavily API Key is set: True\n",
      "Google Gemini API Key is set\n",
      "GOOGLE_API_KEY exists? True\n"
     ]
    }
   ],
   "source": [
    "import getpass\n",
    "import os\n",
    "from dotenv import load_dotenv\n",
    "\n",
    "# os.environ[\"LANGMSITH_TRACING\"] = \"true\"\n",
    "# os.environ[\"LANGSMITH_API_KEY\"] = getpass.getpass()\n",
    "\n",
    "# loads variables from .env\n",
    "load_dotenv()\n",
    "\n",
    "tracing = os.getenv(\"LANGSMITH_TRACING\", \"false\")\n",
    "api_key = os.getenv(\"LANGSMITH_API_KEY\")\n",
    "\n",
    "print(\"Tracing:\", tracing)\n",
    "print(\"API Key is set:\", api_key is not None)\n",
    "\n",
    "tav_key = os.getenv(\"TAVILY_API_KEY\")\n",
    "print(\"Tavily API Key is set:\", tav_key is not None)\n",
    "# os.environ[\"TAVLIY_API_KEY\"] = getpass.getpass()\n",
    "\n",
    "gemini_api = os.getenv(\"GOOGLE_API_KEY\")\n",
    "print(\"Google Gemini API Key is set\")\n",
    "\n",
    "print(\"GOOGLE_API_KEY exists?\", \"GOOGLE_API_KEY\" in os.environ)"
   ]
  },
  {
   "cell_type": "markdown",
   "metadata": {},
   "source": [
    "**note: Tavily researcher plan gives 1000 API credits (monthly) for free, no credit card required**"
   ]
  },
  {
   "cell_type": "code",
   "execution_count": 3,
   "metadata": {},
   "outputs": [
    {
     "name": "stdout",
     "output_type": "stream",
     "text": [
      "{'query': 'What is the weather in SF?', 'follow_up_questions': None, 'answer': None, 'images': [], 'results': [{'title': 'Weather in San Francisco, CA', 'url': 'https://www.weatherapi.com/', 'content': \"{'location': {'name': 'San Francisco', 'region': 'California', 'country': 'United States of America', 'lat': 37.775, 'lon': -122.4183, 'tz_id': 'America/Los_Angeles', 'localtime_epoch': 1751377166, 'localtime': '2025-07-01 06:39'}, 'current': {'last_updated_epoch': 1751376600, 'last_updated': '2025-07-01 06:30', 'temp_c': 12.8, 'temp_f': 55.0, 'is_day': 1, 'condition': {'text': 'Overcast', 'icon': '//cdn.weatherapi.com/weather/64x64/day/122.png', 'code': 1009}, 'wind_mph': 6.0, 'wind_kph': 9.7, 'wind_degree': 236, 'wind_dir': 'WSW', 'pressure_mb': 1012.0, 'pressure_in': 29.87, 'precip_mm': 0.0, 'precip_in': 0.0, 'humidity': 93, 'cloud': 100, 'feelslike_c': 12.0, 'feelslike_f': 53.6, 'windchill_c': 11.4, 'windchill_f': 52.5, 'heatindex_c': 12.2, 'heatindex_f': 53.9, 'dewpoint_c': 12.0, 'dewpoint_f': 53.6, 'vis_km': 16.0, 'vis_miles': 9.0, 'uv': 0.0, 'gust_mph': 9.5, 'gust_kph': 15.2}}\", 'score': 0.9880559, 'raw_content': None}, {'title': 'Weather in San Francisco in January 2025', 'url': 'https://world-weather.info/forecast/usa/san_francisco/january-2025/', 'content': '*   [1 +55° +46°](https://world-weather.info/forecast/usa/san_francisco/01-january/) *   [2 +59° +48°](https://world-weather.info/forecast/usa/san_francisco/02-january/) *   [3 +55° +52°](https://world-weather.info/forecast/usa/san_francisco/03-january/) *   [4 +57° +50°](https://world-weather.info/forecast/usa/san_francisco/04-january/) *   [5 +59° +48°](https://world-weather.info/forecast/usa/san_francisco/05-january/) *   [6 +57° +52°](https://world-weather.info/forecast/usa/san_francisco/06-january/) *   [7 +64° +54°](https://world-weather.info/forecast/usa/san_francisco/07-january/) *   [8 +63° +54°](https://world-weather.info/forecast/usa/san_francisco/08-january/) *   [9 +64° +48°](https://world-weather.info/forecast/usa/san_francisco/09-january/) *   [10 +61° +52°](https://world-weather.info/forecast/usa/san_francisco/10-january/) *   [11 +63° +50°](https://world-weather.info/forecast/usa/san_francisco/11-january/) *   [12 +63° +52°](https://world-weather.info/forecast/usa/san_francisco/12-january/) *   [13 +61° +48°](https://world-weather.info/forecast/usa/san_francisco/13-january/) *   [14 +59° +48°](https://world-weather.info/forecast/usa/san_francisco/14-january/) *   [15 +59° +46°](https://world-weather.info/forecast/usa/san_francisco/15-january/) *   [16 +59° +46°](https://world-weather.info/forecast/usa/san_francisco/16-january/) *   [17 +55° +48°](https://world-weather.info/forecast/usa/san_francisco/17-january/) *   [18 +55° +46°](https://world-weather.info/forecast/usa/san_francisco/18-january/) *   [19 +54° +46°](https://world-weather.info/forecast/usa/san_francisco/19-january/) *   [20 +61° +45°](https://world-weather.info/forecast/usa/san_francisco/20-january/) *   [21 +59° +45°](https://world-weather.info/forecast/usa/san_francisco/21-january/) *   [22 +61° +45°](https://world-weather.info/forecast/usa/san_francisco/22-january/) *   [23 +63° +48°](https://world-weather.info/forecast/usa/san_francisco/23-january/) *   [24 +57° +46°](https://world-weather.info/forecast/usa/san_francisco/24-january/) *   [25 +55° +48°](https://world-weather.info/forecast/usa/san_francisco/25-january/) *   [26 +55° +46°](https://world-weather.info/forecast/usa/san_francisco/26-january/) *   [27 +57° +46°](https://world-weather.info/forecast/usa/san_francisco/27-january/) *   [28 +55° +45°](https://world-weather.info/forecast/usa/san_francisco/28-january/) *   [29 +55° +48°](https://world-weather.info/forecast/usa/san_francisco/29-january/) *   [30 +54° +46°](https://world-weather.info/forecast/usa/san_francisco/30-january/)', 'score': 0.93511593, 'raw_content': None}], 'response_time': 2.01}\n"
     ]
    }
   ],
   "source": [
    "# we need to create the tools we want to use\n",
    "# main tool of choice will be Tavily (a search engine)\n",
    "# we can use the dedicated langchain-tavily integration\n",
    "from langchain_tavily import TavilySearch\n",
    "\n",
    "search = TavilySearch(max_results=2)\n",
    "search_results = search.invoke(\"What is the weather in SF?\")\n",
    "print(search_results)\n",
    "# if we want, we can create other tools \n",
    "# once we have all the tools we want, we can put them in a list that we will reference later\n",
    "tools = [search]"
   ]
  },
  {
   "cell_type": "code",
   "execution_count": 4,
   "metadata": {},
   "outputs": [
    {
     "data": {
      "text/plain": [
       "'Hi there! How can I help you today?'"
      ]
     },
     "execution_count": 4,
     "metadata": {},
     "output_type": "execute_result"
    }
   ],
   "source": [
    "from langchain.chat_models import init_chat_model\n",
    "from langchain_google_genai import ChatGoogleGenerativeAI\n",
    "# model = init_chat_model(\"gemini-2.0-flash\", model_provider=\"google_genai\")\n",
    "llm = ChatGoogleGenerativeAI(\n",
    "    model=\"gemini-2.0-flash\",\n",
    "    temperature=0.7\n",
    ")\n",
    "\n",
    "# response = llm.invoke(\"Tell me a fun fact about octopuses.\")\n",
    "# print(response.content)\n",
    "\n",
    "query = \"Hi\"\n",
    "response = llm.invoke([{\"role\": \"user\", \"content\": query}])\n",
    "response.text()"
   ]
  },
  {
   "cell_type": "code",
   "execution_count": 5,
   "metadata": {},
   "outputs": [],
   "source": [
    "# import relevant functionality \n",
    "from langchain.chat_models import init_chat_model\n",
    "from langchain_tavily import TavilySearch\n",
    "from langgraph.checkpoint.memory import MemorySaver\n",
    "from langgraph.prebuilt import create_react_agent"
   ]
  },
  {
   "cell_type": "markdown",
   "metadata": {},
   "source": [
    "packages i need to install in virtual environment\n",
    "```\n",
    "pip install langchain\n",
    "pip insall langgraph\n",
    "pip install langchain-community tavily-python\n",
    "pip install -U langchain-anthropic\n",
    "pip install -U langgraph langchain-tavily langgraph-checkpoint-sqlite\n",
    "pip install -U langchain-google-genai\n",
    "```\n",
    "\n",
    "confirmed i have the correct packages:\n",
    "```\n",
    "pip show langgraph\n",
    "pip show langchain-community\n",
    "pip show tavily-python\n",
    "```"
   ]
  },
  {
   "cell_type": "markdown",
   "metadata": {},
   "source": [
    "<span style=\"color: yellow;\">ensure you have a Tavily API key set as TAVILY_API_KEY in the environment</span>"
   ]
  },
  {
   "cell_type": "code",
   "execution_count": 15,
   "metadata": {},
   "outputs": [],
   "source": [
    "# create the agent \n",
    "memory = MemorySaver()\n",
    "# i think this is free ? \n",
    "model = init_chat_model(\"anthropic:claude-3-5-sonnet-latest\")\n",
    "search = TavilySearch(max_results=2)\n",
    "tools = [search]\n",
    "agent_executor = create_react_agent(model, tools, checkpointer=memory)"
   ]
  },
  {
   "cell_type": "code",
   "execution_count": 7,
   "metadata": {},
   "outputs": [
    {
     "ename": "NameError",
     "evalue": "name 'agent_executor' is not defined",
     "output_type": "error",
     "traceback": [
      "\u001b[0;31m---------------------------------------------------------------------------\u001b[0m",
      "\u001b[0;31mNameError\u001b[0m                                 Traceback (most recent call last)",
      "Cell \u001b[0;32mIn[7], line 9\u001b[0m\n\u001b[1;32m      2\u001b[0m config \u001b[38;5;241m=\u001b[39m {\u001b[38;5;124m\"\u001b[39m\u001b[38;5;124mconfigurable\u001b[39m\u001b[38;5;124m\"\u001b[39m: {\u001b[38;5;124m\"\u001b[39m\u001b[38;5;124mthread_id\u001b[39m\u001b[38;5;124m\"\u001b[39m: \u001b[38;5;124m\"\u001b[39m\u001b[38;5;124mabc123\u001b[39m\u001b[38;5;124m\"\u001b[39m}}\n\u001b[1;32m      4\u001b[0m input_message \u001b[38;5;241m=\u001b[39m {\n\u001b[1;32m      5\u001b[0m     \u001b[38;5;124m\"\u001b[39m\u001b[38;5;124mrole\u001b[39m\u001b[38;5;124m\"\u001b[39m: \u001b[38;5;124m\"\u001b[39m\u001b[38;5;124muser\u001b[39m\u001b[38;5;124m\"\u001b[39m, \n\u001b[1;32m      6\u001b[0m     \u001b[38;5;124m\"\u001b[39m\u001b[38;5;124mcontent\u001b[39m\u001b[38;5;124m\"\u001b[39m: \u001b[38;5;124m\"\u001b[39m\u001b[38;5;124mHi, I\u001b[39m\u001b[38;5;124m'\u001b[39m\u001b[38;5;124mm Bob and I live in SF.\u001b[39m\u001b[38;5;124m\"\u001b[39m,\n\u001b[1;32m      7\u001b[0m }\n\u001b[0;32m----> 9\u001b[0m \u001b[38;5;28;01mfor\u001b[39;00m step \u001b[38;5;129;01min\u001b[39;00m \u001b[43magent_executor\u001b[49m\u001b[38;5;241m.\u001b[39mstream(\n\u001b[1;32m     10\u001b[0m     {\u001b[38;5;124m\"\u001b[39m\u001b[38;5;124mmessages\u001b[39m\u001b[38;5;124m\"\u001b[39m: [input_message]}, config, stream_mode\u001b[38;5;241m=\u001b[39m\u001b[38;5;124m\"\u001b[39m\u001b[38;5;124mvalues\u001b[39m\u001b[38;5;124m\"\u001b[39m\n\u001b[1;32m     11\u001b[0m ):\n\u001b[1;32m     12\u001b[0m     step[\u001b[38;5;124m\"\u001b[39m\u001b[38;5;124mmessages\u001b[39m\u001b[38;5;124m\"\u001b[39m][\u001b[38;5;241m-\u001b[39m\u001b[38;5;241m1\u001b[39m]\u001b[38;5;241m.\u001b[39mpretty_print()\n",
      "\u001b[0;31mNameError\u001b[0m: name 'agent_executor' is not defined"
     ]
    }
   ],
   "source": [
    "# use the agent\n",
    "config = {\"configurable\": {\"thread_id\": \"abc123\"}}\n",
    "\n",
    "input_message = {\n",
    "    \"role\": \"user\", \n",
    "    \"content\": \"Hi, I'm Bob and I live in SF.\",\n",
    "}\n",
    "\n",
    "for step in agent_executor.stream(\n",
    "    {\"messages\": [input_message]}, config, stream_mode=\"values\"\n",
    "):\n",
    "    step[\"messages\"][-1].pretty_print()"
   ]
  },
  {
   "cell_type": "code",
   "execution_count": 9,
   "metadata": {},
   "outputs": [],
   "source": [
    "# use .bind_tools to give the language model knowledge of tools\n",
    "model_with_tools = llm.bind_tools(tools)"
   ]
  },
  {
   "cell_type": "code",
   "execution_count": 10,
   "metadata": {},
   "outputs": [
    {
     "name": "stdout",
     "output_type": "stream",
     "text": [
      "Message content: Hi, how can I help you today?\n",
      "\n",
      "Tool calls: []\n"
     ]
    }
   ],
   "source": [
    "# we can now call the model --> look @ both the content field + the tool_calls field\n",
    "query = \"Hi!\"\n",
    "response = model_with_tools.invoke([{\"role\": \"user\", \"content\": query}])\n",
    "\n",
    "print(f\"Message content: {response.text()}\\n\")\n",
    "print(f\"Tool calls: {response.tool_calls}\")"
   ]
  },
  {
   "cell_type": "code",
   "execution_count": 11,
   "metadata": {},
   "outputs": [
    {
     "name": "stdout",
     "output_type": "stream",
     "text": [
      "Message content: \n",
      "\n",
      "Tool calls: [{'name': 'tavily_search', 'args': {'query': 'Weather in San Francisco'}, 'id': '0a7b85f1-02cb-4e27-b5fe-56722b7dbda0', 'type': 'tool_call'}]\n"
     ]
    }
   ],
   "source": [
    "# calling model with input that would expect a tool to be called \n",
    "query = \"Search for the weather in SF\"\n",
    "response = model_with_tools.invoke([{\"role\": \"user\", \"content\": query}])\n",
    "\n",
    "print(f\"Message content: {response.text()}\\n\")\n",
    "print(f\"Tool calls: {response.tool_calls}\")"
   ]
  },
  {
   "cell_type": "markdown",
   "metadata": {},
   "source": [
    "^ no text content, but there is a tool call --> it wnats us to call the Tavily Search tool \n",
    "- it isn't calling the tool yet, it is just telling us to \n",
    "- in order to actually call the tool, we have to create an agent\n",
    "\n",
    "---\n",
    "## create the agent\n",
    "now that we have defined the tools + the LLM, we can create the agent\n",
    "- using LangGraph to construct the agent \n",
    "- high level interface backed by low level + controllable API (allows user to easily modify the agnet logic)\n",
    "- time to initialize the agent with the LLM + tools "
   ]
  },
  {
   "cell_type": "code",
   "execution_count": 12,
   "metadata": {},
   "outputs": [],
   "source": [
    "from langgraph.prebuilt import create_react_agent\n",
    "agent_executor = create_react_agent(llm, tools)"
   ]
  },
  {
   "cell_type": "markdown",
   "metadata": {},
   "source": [
    "## run the agent\n",
    "we will now run the agent with a few queries \n",
    "- all stateless queries (won't remember previous interactions)\n",
    "- the agent will return the final state @ the end of the interaction \n",
    "    - includes any inputs\n",
    "    - later on --> see how to get only outputs"
   ]
  },
  {
   "cell_type": "code",
   "execution_count": 13,
   "metadata": {},
   "outputs": [
    {
     "name": "stdout",
     "output_type": "stream",
     "text": [
      "================================\u001b[1m Human Message \u001b[0m=================================\n",
      "\n",
      "Hi!\n",
      "==================================\u001b[1m Ai Message \u001b[0m==================================\n",
      "\n",
      "Hi, how can I help you today?\n"
     ]
    }
   ],
   "source": [
    "input_message = {\"role\": \"user\", \"content\": \"Hi!\"}\n",
    "response = agent_executor.invoke({\"messages\": [input_message]})\n",
    "\n",
    "for message in response[\"messages\"]:\n",
    "    message.pretty_print()"
   ]
  },
  {
   "cell_type": "markdown",
   "metadata": {},
   "source": [
    "in order to see exactly what is happening under the hood + ensure it's not calling a tool, we can take a look @ the LangSmith trace"
   ]
  },
  {
   "cell_type": "code",
   "execution_count": 14,
   "metadata": {},
   "outputs": [
    {
     "name": "stdout",
     "output_type": "stream",
     "text": [
      "================================\u001b[1m Human Message \u001b[0m=================================\n",
      "\n",
      "Search for the weather in SF\n",
      "==================================\u001b[1m Ai Message \u001b[0m==================================\n",
      "Tool Calls:\n",
      "  tavily_search (285dbb56-1dca-49b4-96bf-4dea889f9ae7)\n",
      " Call ID: 285dbb56-1dca-49b4-96bf-4dea889f9ae7\n",
      "  Args:\n",
      "    query: Weather in San Francisco\n",
      "=================================\u001b[1m Tool Message \u001b[0m=================================\n",
      "Name: tavily_search\n",
      "\n",
      "{\"query\": \"Weather in San Francisco\", \"follow_up_questions\": null, \"answer\": null, \"images\": [], \"results\": [{\"title\": \"Weather in San Francisco\", \"url\": \"https://www.weatherapi.com/\", \"content\": \"{'location': {'name': 'San Francisco', 'region': 'California', 'country': 'United States of America', 'lat': 37.775, 'lon': -122.4183, 'tz_id': 'America/Los_Angeles', 'localtime_epoch': 1751379494, 'localtime': '2025-07-01 07:18'}, 'current': {'last_updated_epoch': 1751379300, 'last_updated': '2025-07-01 07:15', 'temp_c': 12.8, 'temp_f': 55.0, 'is_day': 1, 'condition': {'text': 'Overcast', 'icon': '//cdn.weatherapi.com/weather/64x64/day/122.png', 'code': 1009}, 'wind_mph': 5.6, 'wind_kph': 9.0, 'wind_degree': 241, 'wind_dir': 'WSW', 'pressure_mb': 1012.0, 'pressure_in': 29.87, 'precip_mm': 0.0, 'precip_in': 0.0, 'humidity': 93, 'cloud': 100, 'feelslike_c': 12.1, 'feelslike_f': 53.8, 'windchill_c': 11.0, 'windchill_f': 51.8, 'heatindex_c': 11.9, 'heatindex_f': 53.4, 'dewpoint_c': 12.0, 'dewpoint_f': 53.6, 'vis_km': 16.0, 'vis_miles': 9.0, 'uv': 0.3, 'gust_mph': 8.2, 'gust_kph': 13.2}}\", \"score\": 0.9683691, \"raw_content\": null}, {\"title\": \"Weather in San Francisco in January 2025\", \"url\": \"https://world-weather.info/forecast/usa/san_francisco/january-2025/\", \"content\": \"*   [1 +55° +46°](https://world-weather.info/forecast/usa/san_francisco/01-january/) *   [2 +59° +48°](https://world-weather.info/forecast/usa/san_francisco/02-january/) *   [3 +55° +52°](https://world-weather.info/forecast/usa/san_francisco/03-january/) *   [4 +57° +50°](https://world-weather.info/forecast/usa/san_francisco/04-january/) *   [5 +59° +48°](https://world-weather.info/forecast/usa/san_francisco/05-january/) *   [6 +57° +52°](https://world-weather.info/forecast/usa/san_francisco/06-january/) *   [7 +64° +54°](https://world-weather.info/forecast/usa/san_francisco/07-january/) *   [8 +63° +54°](https://world-weather.info/forecast/usa/san_francisco/08-january/) *   [9 +64° +48°](https://world-weather.info/forecast/usa/san_francisco/09-january/) *   [10 +61° +52°](https://world-weather.info/forecast/usa/san_francisco/10-january/) *   [11 +63° +50°](https://world-weather.info/forecast/usa/san_francisco/11-january/) *   [12 +63° +52°](https://world-weather.info/forecast/usa/san_francisco/12-january/) *   [13 +61° +48°](https://world-weather.info/forecast/usa/san_francisco/13-january/) *   [14 +59° +48°](https://world-weather.info/forecast/usa/san_francisco/14-january/) *   [15 +59° +46°](https://world-weather.info/forecast/usa/san_francisco/15-january/) *   [16 +59° +46°](https://world-weather.info/forecast/usa/san_francisco/16-january/) *   [17 +55° +48°](https://world-weather.info/forecast/usa/san_francisco/17-january/) *   [18 +55° +46°](https://world-weather.info/forecast/usa/san_francisco/18-january/) *   [19 +54° +46°](https://world-weather.info/forecast/usa/san_francisco/19-january/) *   [20 +61° +45°](https://world-weather.info/forecast/usa/san_francisco/20-january/) *   [21 +59° +45°](https://world-weather.info/forecast/usa/san_francisco/21-january/) *   [22 +61° +45°](https://world-weather.info/forecast/usa/san_francisco/22-january/) *   [23 +63° +48°](https://world-weather.info/forecast/usa/san_francisco/23-january/) *   [24 +57° +46°](https://world-weather.info/forecast/usa/san_francisco/24-january/) *   [25 +55° +48°](https://world-weather.info/forecast/usa/san_francisco/25-january/) *   [26 +55° +46°](https://world-weather.info/forecast/usa/san_francisco/26-january/) *   [27 +57° +46°](https://world-weather.info/forecast/usa/san_francisco/27-january/) *   [28 +55° +45°](https://world-weather.info/forecast/usa/san_francisco/28-january/) *   [29 +55° +48°](https://world-weather.info/forecast/usa/san_francisco/29-january/) *   [30 +54° +46°](https://world-weather.info/forecast/usa/san_francisco/30-january/)\", \"score\": 0.9683364, \"raw_content\": null}], \"response_time\": 1.51}\n",
      "==================================\u001b[1m Ai Message \u001b[0m==================================\n",
      "\n",
      "The weather in San Francisco, California on July 1, 2025 is 55°F (12.8°C) and Overcast. The wind is WSW at 5.6 mph, pressure is 29.87 in, and humidity is 93%.\n"
     ]
    }
   ],
   "source": [
    "# example where it should be invoking the tool \n",
    "input_message = {\"role\": \"user\", \"content\": \"Search for the weather in SF\"}\n",
    "response = agent_executor.invoke({\"messages\": [input_message]})\n",
    "\n",
    "for message in response[\"messages\"]:\n",
    "    message.pretty_print()"
   ]
  },
  {
   "cell_type": "markdown",
   "metadata": {},
   "source": [
    "## streaming messages\n",
    "we've seen how the agent can be called with ```.invoke``` to get a final response. if the agent executes multiple steps, this may take a while. to show intermediate progress, we cna stream back messages as they occur."
   ]
  },
  {
   "cell_type": "code",
   "execution_count": 15,
   "metadata": {},
   "outputs": [
    {
     "name": "stdout",
     "output_type": "stream",
     "text": [
      "================================\u001b[1m Human Message \u001b[0m=================================\n",
      "\n",
      "Search for the weather in SF\n",
      "==================================\u001b[1m Ai Message \u001b[0m==================================\n",
      "Tool Calls:\n",
      "  tavily_search (75de1bc0-b5c2-4338-9bd4-b974f8312e4f)\n",
      " Call ID: 75de1bc0-b5c2-4338-9bd4-b974f8312e4f\n",
      "  Args:\n",
      "    query: Weather in San Francisco\n",
      "=================================\u001b[1m Tool Message \u001b[0m=================================\n",
      "Name: tavily_search\n",
      "\n",
      "{\"query\": \"Weather in San Francisco\", \"follow_up_questions\": null, \"answer\": null, \"images\": [], \"results\": [{\"title\": \"Weather in San Francisco\", \"url\": \"https://www.weatherapi.com/\", \"content\": \"{'location': {'name': 'San Francisco', 'region': 'California', 'country': 'United States of America', 'lat': 37.775, 'lon': -122.4183, 'tz_id': 'America/Los_Angeles', 'localtime_epoch': 1751379494, 'localtime': '2025-07-01 07:18'}, 'current': {'last_updated_epoch': 1751379300, 'last_updated': '2025-07-01 07:15', 'temp_c': 12.8, 'temp_f': 55.0, 'is_day': 1, 'condition': {'text': 'Overcast', 'icon': '//cdn.weatherapi.com/weather/64x64/day/122.png', 'code': 1009}, 'wind_mph': 5.6, 'wind_kph': 9.0, 'wind_degree': 241, 'wind_dir': 'WSW', 'pressure_mb': 1012.0, 'pressure_in': 29.87, 'precip_mm': 0.0, 'precip_in': 0.0, 'humidity': 93, 'cloud': 100, 'feelslike_c': 12.1, 'feelslike_f': 53.8, 'windchill_c': 11.0, 'windchill_f': 51.8, 'heatindex_c': 11.9, 'heatindex_f': 53.4, 'dewpoint_c': 12.0, 'dewpoint_f': 53.6, 'vis_km': 16.0, 'vis_miles': 9.0, 'uv': 0.3, 'gust_mph': 8.2, 'gust_kph': 13.2}}\", \"score\": 0.9683691, \"raw_content\": null}, {\"title\": \"Weather in San Francisco in January 2025\", \"url\": \"https://world-weather.info/forecast/usa/san_francisco/january-2025/\", \"content\": \"*   [1 +55° +46°](https://world-weather.info/forecast/usa/san_francisco/01-january/) *   [2 +59° +48°](https://world-weather.info/forecast/usa/san_francisco/02-january/) *   [3 +55° +52°](https://world-weather.info/forecast/usa/san_francisco/03-january/) *   [4 +57° +50°](https://world-weather.info/forecast/usa/san_francisco/04-january/) *   [5 +59° +48°](https://world-weather.info/forecast/usa/san_francisco/05-january/) *   [6 +57° +52°](https://world-weather.info/forecast/usa/san_francisco/06-january/) *   [7 +64° +54°](https://world-weather.info/forecast/usa/san_francisco/07-january/) *   [8 +63° +54°](https://world-weather.info/forecast/usa/san_francisco/08-january/) *   [9 +64° +48°](https://world-weather.info/forecast/usa/san_francisco/09-january/) *   [10 +61° +52°](https://world-weather.info/forecast/usa/san_francisco/10-january/) *   [11 +63° +50°](https://world-weather.info/forecast/usa/san_francisco/11-january/) *   [12 +63° +52°](https://world-weather.info/forecast/usa/san_francisco/12-january/) *   [13 +61° +48°](https://world-weather.info/forecast/usa/san_francisco/13-january/) *   [14 +59° +48°](https://world-weather.info/forecast/usa/san_francisco/14-january/) *   [15 +59° +46°](https://world-weather.info/forecast/usa/san_francisco/15-january/) *   [16 +59° +46°](https://world-weather.info/forecast/usa/san_francisco/16-january/) *   [17 +55° +48°](https://world-weather.info/forecast/usa/san_francisco/17-january/) *   [18 +55° +46°](https://world-weather.info/forecast/usa/san_francisco/18-january/) *   [19 +54° +46°](https://world-weather.info/forecast/usa/san_francisco/19-january/) *   [20 +61° +45°](https://world-weather.info/forecast/usa/san_francisco/20-january/) *   [21 +59° +45°](https://world-weather.info/forecast/usa/san_francisco/21-january/) *   [22 +61° +45°](https://world-weather.info/forecast/usa/san_francisco/22-january/) *   [23 +63° +48°](https://world-weather.info/forecast/usa/san_francisco/23-january/) *   [24 +57° +46°](https://world-weather.info/forecast/usa/san_francisco/24-january/) *   [25 +55° +48°](https://world-weather.info/forecast/usa/san_francisco/25-january/) *   [26 +55° +46°](https://world-weather.info/forecast/usa/san_francisco/26-january/) *   [27 +57° +46°](https://world-weather.info/forecast/usa/san_francisco/27-january/) *   [28 +55° +45°](https://world-weather.info/forecast/usa/san_francisco/28-january/) *   [29 +55° +48°](https://world-weather.info/forecast/usa/san_francisco/29-january/) *   [30 +54° +46°](https://world-weather.info/forecast/usa/san_francisco/30-january/)\", \"score\": 0.9683364, \"raw_content\": null}], \"response_time\": 1.1}\n",
      "==================================\u001b[1m Ai Message \u001b[0m==================================\n",
      "\n",
      "The weather in San Francisco on July 1, 2025 is 55°F and overcast. The wind is from the WSW at 5.6 mph. The humidity is 93%.\n"
     ]
    }
   ],
   "source": [
    "for step in agent_executor.stream({\"messages\": [input_message]}, stream_mode=\"values\"):\n",
    "    step[\"messages\"][-1].pretty_print()"
   ]
  },
  {
   "cell_type": "code",
   "execution_count": null,
   "metadata": {},
   "outputs": [],
   "source": []
  }
 ],
 "metadata": {
  "kernelspec": {
   "display_name": ".venv",
   "language": "python",
   "name": "python3"
  },
  "language_info": {
   "codemirror_mode": {
    "name": "ipython",
    "version": 3
   },
   "file_extension": ".py",
   "mimetype": "text/x-python",
   "name": "python",
   "nbconvert_exporter": "python",
   "pygments_lexer": "ipython3",
   "version": "3.10.13"
  }
 },
 "nbformat": 4,
 "nbformat_minor": 2
}
