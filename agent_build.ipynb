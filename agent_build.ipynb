{
 "cells": [
  {
   "cell_type": "markdown",
   "metadata": {},
   "source": [
    "## building an agent that interacts with a search engine \n",
    "- ask agent questions \n",
    "- watch agent call the search tool \n",
    "- have conversations with the agent\n",
    "\n",
    "[python.langchain tutorial](https://python.langchain.com/docs/tutorials/agents/)"
   ]
  },
  {
   "cell_type": "code",
   "execution_count": 21,
   "metadata": {},
   "outputs": [
    {
     "name": "stdout",
     "output_type": "stream",
     "text": [
      "Tracing: true\n",
      "API Key is set: True\n",
      "Tavily API Key is set: True\n",
      "Google Gemini API Key is set\n",
      "GOOGLE_API_KEY exists? True\n"
     ]
    }
   ],
   "source": [
    "import getpass\n",
    "import os\n",
    "from dotenv import load_dotenv\n",
    "\n",
    "# os.environ[\"LANGMSITH_TRACING\"] = \"true\"\n",
    "# os.environ[\"LANGSMITH_API_KEY\"] = getpass.getpass()\n",
    "\n",
    "# loads variables from .env\n",
    "load_dotenv()\n",
    "\n",
    "tracing = os.getenv(\"LANGSMITH_TRACING\", \"false\")\n",
    "api_key = os.getenv(\"LANGSMITH_API_KEY\")\n",
    "\n",
    "print(\"Tracing:\", tracing)\n",
    "print(\"API Key is set:\", api_key is not None)\n",
    "\n",
    "tav_key = os.getenv(\"TAVILY_API_KEY\")\n",
    "print(\"Tavily API Key is set:\", tav_key is not None)\n",
    "# os.environ[\"TAVLIY_API_KEY\"] = getpass.getpass()\n",
    "\n",
    "gemini_api = os.getenv(\"GOOGLE_API_KEY\")\n",
    "print(\"Google Gemini API Key is set\")\n",
    "\n",
    "print(\"GOOGLE_API_KEY exists?\", \"GOOGLE_API_KEY\" in os.environ)"
   ]
  },
  {
   "cell_type": "markdown",
   "metadata": {},
   "source": [
    "**note: Tavily researcher plan gives 1000 API credits (monthly) for free, no credit card required**"
   ]
  },
  {
   "cell_type": "code",
   "execution_count": 12,
   "metadata": {},
   "outputs": [
    {
     "name": "stdout",
     "output_type": "stream",
     "text": [
      "{'query': 'What is the weather in SF?', 'follow_up_questions': None, 'answer': None, 'images': [], 'results': [{'title': 'Weather in San Francisco', 'url': 'https://www.weatherapi.com/', 'content': \"{'location': {'name': 'San Francisco', 'region': 'California', 'country': 'United States of America', 'lat': 37.775, 'lon': -122.4183, 'tz_id': 'America/Los_Angeles', 'localtime_epoch': 1751311975, 'localtime': '2025-06-30 12:32'}, 'current': {'last_updated_epoch': 1751311800, 'last_updated': '2025-06-30 12:30', 'temp_c': 14.3, 'temp_f': 57.7, 'is_day': 1, 'condition': {'text': 'Partly cloudy', 'icon': '//cdn.weatherapi.com/weather/64x64/day/116.png', 'code': 1003}, 'wind_mph': 10.5, 'wind_kph': 16.9, 'wind_degree': 251, 'wind_dir': 'WSW', 'pressure_mb': 1014.0, 'pressure_in': 29.93, 'precip_mm': 0.0, 'precip_in': 0.0, 'humidity': 94, 'cloud': 50, 'feelslike_c': 13.1, 'feelslike_f': 55.5, 'windchill_c': 12.5, 'windchill_f': 54.5, 'heatindex_c': 13.3, 'heatindex_f': 56.0, 'dewpoint_c': 11.8, 'dewpoint_f': 53.2, 'vis_km': 13.0, 'vis_miles': 8.0, 'uv': 9.0, 'gust_mph': 12.6, 'gust_kph': 20.3}}\", 'score': 0.9241706, 'raw_content': None}, {'title': 'Weather in San Francisco in June 2025', 'url': 'https://world-weather.info/forecast/usa/san_francisco/june-2025/', 'content': \"Weather in San Francisco in June 2025 (California) - Detailed Weather Forecast for a Month *   Weather in San Francisco Weather in San Francisco in June 2025 *   1 +63° +55° *   2 +66° +54° *   3 +66° +55° *   4 +66° +54° *   5 +66° +55° *   6 +66° +57° *   7 +64° +55° *   8 +63° +55° *   9 +63° +54° *   10 +59° +54° *   11 +59° +54° *   12 +61° +54° *   13 +63° +54° Weather in Washington, D.C.**+75°** Redwood City**+59°** San Leandro**+57°** San Mateo**+55°** San Rafael**+59°** San Ramon**+55°** South San Francisco**+55°** Pacifica**+52°** Daly City**+54°** world's temperature today Goulburn day+50°F night+23°F Rustaq day+117°F night+93°F Weather forecast on your site Install _San Francisco_ +55° Temperature units\", 'score': 0.80126834, 'raw_content': None}], 'response_time': 1.99}\n"
     ]
    }
   ],
   "source": [
    "# we need to create the tools we want to use\n",
    "# main tool of choice will be Tavily (a search engine)\n",
    "# we can use the dedicated langchain-tavily integration\n",
    "from langchain_tavily import TavilySearch\n",
    "\n",
    "search = TavilySearch(max_results=2)\n",
    "search_results = search.invoke(\"What is the weather in SF?\")\n",
    "print(search_results)\n",
    "# if we want, we can create other tools \n",
    "# once we have all the tools we want, we can put them in a list that we will reference later\n",
    "tools = [search]"
   ]
  },
  {
   "cell_type": "code",
   "execution_count": null,
   "metadata": {},
   "outputs": [
    {
     "name": "stdout",
     "output_type": "stream",
     "text": [
      "Here's a fun fact about octopuses:\n",
      "\n",
      "**Octopuses have three hearts!** Two of these hearts pump blood through the gills, and the third pumps blood to the rest of the body. The heart that pumps blood to the body actually stops beating when the octopus swims, which is why they prefer to crawl rather than swim.\n"
     ]
    }
   ],
   "source": [
    "from langchain.chat_models import init_chat_model\n",
    "from langchain_google_genai import ChatGoogleGenerativeAI\n",
    "# model = init_chat_model(\"gemini-2.0-flash\", model_provider=\"google_genai\")\n",
    "llm = ChatGoogleGenerativeAI(\n",
    "    model=\"gemini-2.0-flash\",\n",
    "    temperature=0.7\n",
    ")\n",
    "\n",
    "response = llm.invoke(\"Tell me a fun fact about octopuses.\")\n",
    "print(response.content)"
   ]
  },
  {
   "cell_type": "code",
   "execution_count": 1,
   "metadata": {},
   "outputs": [],
   "source": [
    "# import relevant functionality \n",
    "from langchain.chat_models import init_chat_model\n",
    "from langchain_tavily import TavilySearch\n",
    "from langgraph.checkpoint.memory import MemorySaver\n",
    "from langgraph.prebuilt import create_react_agent"
   ]
  },
  {
   "cell_type": "markdown",
   "metadata": {},
   "source": [
    "packages i need to install in virtual environment\n",
    "```\n",
    "pip install langchain\n",
    "pip insall langgraph\n",
    "pip install langchain-community tavily-python\n",
    "pip install -U langchain-anthropic\n",
    "pip install -U langgraph langchain-tavily langgraph-checkpoint-sqlite\n",
    "pip install -U langchain-google-genai\n",
    "```\n",
    "\n",
    "confirmed i have the correct packages:\n",
    "```\n",
    "pip show langgraph\n",
    "pip show langchain-community\n",
    "pip show tavily-python\n",
    "```"
   ]
  },
  {
   "cell_type": "markdown",
   "metadata": {},
   "source": [
    "<span style=\"color: yellow;\">ensure you have a Tavily API key set as TAVILY_API_KEY in the environment</span>"
   ]
  },
  {
   "cell_type": "code",
   "execution_count": 15,
   "metadata": {},
   "outputs": [],
   "source": [
    "# create the agent \n",
    "memory = MemorySaver()\n",
    "# i think this is free ? \n",
    "model = init_chat_model(\"anthropic:claude-3-5-sonnet-latest\")\n",
    "search = TavilySearch(max_results=2)\n",
    "tools = [search]\n",
    "agent_executor = create_react_agent(model, tools, checkpointer=memory)"
   ]
  },
  {
   "cell_type": "code",
   "execution_count": null,
   "metadata": {},
   "outputs": [
    {
     "ename": "SyntaxError",
     "evalue": "expression expected after dictionary key and ':' (3376947980.py, line 6)",
     "output_type": "error",
     "traceback": [
      "\u001b[0;36m  Cell \u001b[0;32mIn[5], line 6\u001b[0;36m\u001b[0m\n\u001b[0;31m    \"content\":\u001b[0m\n\u001b[0m             ^\u001b[0m\n\u001b[0;31mSyntaxError\u001b[0m\u001b[0;31m:\u001b[0m expression expected after dictionary key and ':'\n"
     ]
    }
   ],
   "source": [
    "# use the agent\n",
    "config = {\"configurable\": {\"thread_id\": \"abc123\"}}\n",
    "\n",
    "input_message = {\n",
    "    \"role\": \"user\", \n",
    "    \"content\": \"Hi, I'm Bob and I live in SF.\",\n",
    "}\n",
    "\n",
    "for step in agent_executor.stream(\n",
    "    {\"messages\": [input_message]}, config, stream_mode=\"values\"\n",
    "):\n",
    "    step[\"messages\"][-1].pretty_print()"
   ]
  },
  {
   "cell_type": "code",
   "execution_count": null,
   "metadata": {},
   "outputs": [],
   "source": []
  }
 ],
 "metadata": {
  "kernelspec": {
   "display_name": ".venv",
   "language": "python",
   "name": "python3"
  },
  "language_info": {
   "codemirror_mode": {
    "name": "ipython",
    "version": 3
   },
   "file_extension": ".py",
   "mimetype": "text/x-python",
   "name": "python",
   "nbconvert_exporter": "python",
   "pygments_lexer": "ipython3",
   "version": "3.10.13"
  }
 },
 "nbformat": 4,
 "nbformat_minor": 2
}
