{
 "cells": [
  {
   "cell_type": "markdown",
   "metadata": {},
   "source": [
    "## building an agent taht interacts with a search engine \n",
    "- ask agent questions \n",
    "- watch agent call the search tool \n",
    "- have conversations with the agent\n",
    "\n",
    "[python.langchain tutorial](https://python.langchain.com/docs/tutorials/agents/)"
   ]
  },
  {
   "cell_type": "code",
   "execution_count": null,
   "metadata": {},
   "outputs": [],
   "source": [
    "# import relevant functionality \n",
    "from langchain.chat_models import init_chat_model\n",
    "from langchain_tavily import TavilySearch\n",
    "from langgraph.checkpoint.memory import MemorySaver\n",
    "from langgraph.prebuilt import create_react_agent"
   ]
  },
  {
   "cell_type": "markdown",
   "metadata": {},
   "source": [
    "packages i need to install in virtual environment\n",
    "```\n",
    "pip install langchain\n",
    "pip insall langgraph\n",
    "```"
   ]
  },
  {
   "cell_type": "markdown",
   "metadata": {},
   "source": []
  }
 ],
 "metadata": {
  "kernelspec": {
   "display_name": ".venv",
   "language": "python",
   "name": "python3"
  },
  "language_info": {
   "name": "python",
   "version": "3.10.13"
  }
 },
 "nbformat": 4,
 "nbformat_minor": 2
}
